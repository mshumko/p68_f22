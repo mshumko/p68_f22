{
 "cells": [
  {
   "cell_type": "markdown",
   "metadata": {},
   "source": [
    "# Numerically calculate simple cyclotron motion "
   ]
  },
  {
   "cell_type": "code",
   "execution_count": 1,
   "metadata": {},
   "outputs": [],
   "source": [
    "import numpy as np\n",
    "from scipy.integrate import ode, odeint\n",
    "import matplotlib.pyplot as plt"
   ]
  },
  {
   "cell_type": "code",
   "execution_count": 2,
   "metadata": {},
   "outputs": [],
   "source": [
    "m_e = 9.11E-31 # kg\n",
    "q_e = -1.6E-19 # C\n",
    "R_e = 6371E3 # m"
   ]
  },
  {
   "cell_type": "markdown",
   "metadata": {},
   "source": [
    "## Cyclotron motion in the equatorial magnetosphere"
   ]
  },
  {
   "cell_type": "code",
   "execution_count": 3,
   "metadata": {},
   "outputs": [],
   "source": [
    "L = 5\n",
    "B = 3.12E-5*(1/L)**3  # T"
   ]
  },
  {
   "cell_type": "code",
   "execution_count": 4,
   "metadata": {},
   "outputs": [],
   "source": [
    "def f(X, t, q, m, B):\n",
    "    \"\"\"\n",
    "    Calculate the derivatives of the position and velocity.\n",
    "\n",
    "    X = [x, v_x, y, v_y]\n",
    "    \"\"\"\n",
    "    w_c = np.sqrt(m/(q*B))\n",
    "    ode_matrix = np.array([\n",
    "            [0, 1, 0, 0],\n",
    "            [0, 0, 0, 1/w_c**2],\n",
    "            [0, 0, 0, 1],\n",
    "            [0, 1/w_c**2, 0, 0]\n",
    "        ])\n",
    "    return np.matmul(ode_matrix, X)"
   ]
  },
  {
   "cell_type": "code",
   "execution_count": 14,
   "metadata": {},
   "outputs": [],
   "source": [
    "t = np.arange(0, 50, 0.05)\n",
    "X0 = (0, 1, 0, 1)  # x, v_x, y, v_y\n",
    "args = (1, 1, 1)  # q, m , B\n",
    "solution = odeint(f, X0, t, args=args)"
   ]
  },
  {
   "cell_type": "code",
   "execution_count": 16,
   "metadata": {},
   "outputs": [
    {
     "data": {
      "text/plain": [
       "array([[0.00000000e+00, 1.00000000e+00, 0.00000000e+00, 1.00000000e+00],\n",
       "       [5.12710901e-02, 1.05127109e+00, 5.12710901e-02, 1.05127109e+00],\n",
       "       [1.05170911e-01, 1.10517091e+00, 1.05170911e-01, 1.10517091e+00],\n",
       "       ...,\n",
       "       [4.46252122e+21, 4.46252122e+21, 4.46252122e+21, 4.46252122e+21],\n",
       "       [4.69131958e+21, 4.69131958e+21, 4.69131958e+21, 4.69131958e+21],\n",
       "       [4.93184868e+21, 4.93184868e+21, 4.93184868e+21, 4.93184868e+21]])"
      ]
     },
     "execution_count": 16,
     "metadata": {},
     "output_type": "execute_result"
    }
   ],
   "source": [
    "solution"
   ]
  },
  {
   "cell_type": "code",
   "execution_count": 15,
   "metadata": {},
   "outputs": [
    {
     "data": {
      "text/plain": [
       "[<matplotlib.lines.Line2D at 0x7fbaa8aaea90>]"
      ]
     },
     "execution_count": 15,
     "metadata": {},
     "output_type": "execute_result"
    },
    {
     "data": {
      "image/png": "[encoded data removed]",
      "text/plain": [
       "<Figure size 640x480 with 1 Axes>"
      ]
     },
     "metadata": {},
     "output_type": "display_data"
    }
   ],
   "source": [
    "plt.plot(solution[:, 0], solution[:, 2])"
   ]
  },
  {
   "cell_type": "code",
   "execution_count": null,
   "metadata": {},
   "outputs": [],
   "source": []
  },
  {
   "cell_type": "code",
   "execution_count": null,
   "metadata": {},
   "outputs": [],
   "source": []
  }
 ],
 "metadata": {
  "kernelspec": {
   "display_name": "Python 3.8.10 ('env': venv)",
   "language": "python",
   "name": "python3"
  },
  "language_info": {
   "codemirror_mode": {
    "name": "ipython",
    "version": 3
   },
   "file_extension": ".py",
   "mimetype": "text/x-python",
   "name": "python",
   "nbconvert_exporter": "python",
   "pygments_lexer": "ipython3",
   "version": "3.8.10"
  },
  "orig_nbformat": 4,
  "vscode": {
   "interpreter": {
    "hash": "28ec7edc7eb5e7fbfa2ae35abe88c83e62b8a88c800d730da30e0c06479e7547"
   }
  }
 },
 "nbformat": 4,
 "nbformat_minor": 2
}
