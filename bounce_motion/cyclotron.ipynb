{
 "cells": [
  {
   "cell_type": "markdown",
   "metadata": {},
   "source": [
    "# Numerically calculate simple cyclotron motion "
   ]
  },
  {
   "cell_type": "code",
   "execution_count": 1,
   "metadata": {},
   "outputs": [],
   "source": [
    "import numpy as np\n",
    "from scipy.integrate import ode, odeint\n",
    "import matplotlib.pyplot as plt"
   ]
  },
  {
   "cell_type": "code",
   "execution_count": 2,
   "metadata": {},
   "outputs": [],
   "source": [
    "m_e = 9.11E-31 # kg\n",
    "q_e = -1.6E-19 # C\n",
    "R_e = 6371E3 # m"
   ]
  },
  {
   "cell_type": "markdown",
   "metadata": {},
   "source": [
    "## Cyclotron motion in the equatorial magnetosphere"
   ]
  },
  {
   "cell_type": "code",
   "execution_count": 3,
   "metadata": {},
   "outputs": [],
   "source": [
    "L = 5\n",
    "B = 3.12E-5*(1/L)**3  # T"
   ]
  },
  {
   "cell_type": "code",
   "execution_count": 19,
   "metadata": {},
   "outputs": [],
   "source": [
    "def f(X, t, q, m, B):\n",
    "    \"\"\"\n",
    "    Calculate the derivatives of the position and velocity.\n",
    "\n",
    "    X = [x, v_x, y, v_y]\n",
    "    \"\"\"\n",
    "    w_c = np.sqrt(np.abs(q*B/m))\n",
    "    ode_matrix = np.array([\n",
    "            [0, 1, 0, 0],\n",
    "            [0, 0, 0, w_c**2],\n",
    "            [0, 0, 0, 1],\n",
    "            [0, -w_c**2, 0, 0]\n",
    "        ])\n",
    "    return np.matmul(ode_matrix, X)"
   ]
  },
  {
   "cell_type": "code",
   "execution_count": 40,
   "metadata": {},
   "outputs": [],
   "source": [
    "X0 = (0, 1E7, 0, 0)  # x, v_x, y, v_y\n",
    "args = (q_e, m_e, B)  # q, m , B\n",
    "w_c = np.sqrt(np.abs(q_e*B/m_e))\n",
    "t = np.linspace(0, 1/w_c, num=5000)\n",
    "solution = odeint(f, X0, t, args=args)"
   ]
  },
  {
   "cell_type": "code",
   "execution_count": 41,
   "metadata": {},
   "outputs": [
    {
     "data": {
      "text/plain": [
       "209.3741654635465"
      ]
     },
     "execution_count": 41,
     "metadata": {},
     "output_type": "execute_result"
    }
   ],
   "source": [
    "w_c"
   ]
  },
  {
   "cell_type": "code",
   "execution_count": 42,
   "metadata": {},
   "outputs": [
    {
     "data": {
      "text/plain": [
       "[<matplotlib.lines.Line2D at 0x7f7a34da0bb0>]"
      ]
     },
     "execution_count": 42,
     "metadata": {},
     "output_type": "execute_result"
    },
    {
     "data": {
      "image/png": "[encoded data removed]",
      "text/plain": [
       "<Figure size 640x480 with 1 Axes>"
      ]
     },
     "metadata": {},
     "output_type": "display_data"
    }
   ],
   "source": [
    "plt.plot(solution[:, 0], solution[:, 2])"
   ]
  },
  {
   "cell_type": "code",
   "execution_count": null,
   "metadata": {},
   "outputs": [],
   "source": []
  },
  {
   "cell_type": "code",
   "execution_count": null,
   "metadata": {},
   "outputs": [],
   "source": []
  }
 ],
 "metadata": {
  "kernelspec": {
   "display_name": "Python 3.8.10 ('env': venv)",
   "language": "python",
   "name": "python3"
  },
  "language_info": {
   "codemirror_mode": {
    "name": "ipython",
    "version": 3
   },
   "file_extension": ".py",
   "mimetype": "text/x-python",
   "name": "python",
   "nbconvert_exporter": "python",
   "pygments_lexer": "ipython3",
   "version": "3.8.10"
  },
  "orig_nbformat": 4,
  "vscode": {
   "interpreter": {
    "hash": "28ec7edc7eb5e7fbfa2ae35abe88c83e62b8a88c800d730da30e0c06479e7547"
   }
  }
 },
 "nbformat": 4,
 "nbformat_minor": 2
}
